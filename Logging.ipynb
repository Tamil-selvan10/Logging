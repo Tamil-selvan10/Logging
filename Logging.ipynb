{
 "cells": [
  {
   "cell_type": "markdown",
   "id": "5e034386",
   "metadata": {},
   "source": [
    "#### user-defined Exception"
   ]
  },
  {
   "cell_type": "code",
   "execution_count": 1,
   "id": "a4140971",
   "metadata": {},
   "outputs": [],
   "source": [
    "class invalidAge(Exception):\n",
    "    pass"
   ]
  },
  {
   "cell_type": "code",
   "execution_count": 5,
   "id": "df303652",
   "metadata": {},
   "outputs": [
    {
     "name": "stdout",
     "output_type": "stream",
     "text": [
      "Enter age:19\n",
      "Eligible to vote\n"
     ]
    }
   ],
   "source": [
    "num=18\n",
    "try:\n",
    "    age=int(input('Enter age:'))\n",
    "    \n",
    "    if age<num:\n",
    "        raise invalidAge(f'Not eligible to vote. Your age is {age} but eligible age is {num}')\n",
    "    else:\n",
    "        print('Eligible to vote')\n",
    "\n",
    "except Exception as e: \n",
    "    print(type(e).__name__,':',e)"
   ]
  },
  {
   "cell_type": "markdown",
   "id": "d0c77e6d",
   "metadata": {},
   "source": [
    "#### logging\n",
    "\n",
    "Level of Logs\n",
    " - Debug      ----------> Severity 5\n",
    " - Info       ----------> Severity 4\n",
    " - Warning    ----------> Severity 3\n",
    " - Error      ----------> Severity 2\n",
    " - Critical   ----------> Severity 1"
   ]
  },
  {
   "cell_type": "code",
   "execution_count": null,
   "id": "5a06cd4f",
   "metadata": {},
   "outputs": [],
   "source": [
    "import logging\n",
    "\n",
    "logging.basicConfig(level=logging.CRITICAL,\n",
    "                    filename='log1.log',\n",
    "                    filemode='w',\n",
    "                    format='%(asctime)s-%(levelname)s-%(lineno)d-%(message)s',\n",
    "                    datefmt='%d-%B-%Y %H:%M:%S')\n",
    "\n",
    "logging.debug('debug message')\n",
    "logging.info('info message')\n",
    "logging.warning('warning message')\n",
    "logging.error('error message')\n",
    "logging.critical('critical message')"
   ]
  },
  {
   "cell_type": "code",
   "execution_count": null,
   "id": "f1538f4f",
   "metadata": {},
   "outputs": [],
   "source": [
    "import logging\n",
    "\n",
    "logging.basicConfig(level=logging.ERROR,\n",
    "                    filename='log2.log',\n",
    "                    filemode='w',\n",
    "                    format='%(asctime)s-%(levelname)s-%(lineno)d-%(message)s',\n",
    "                    datefmt='%d-%B-%Y %H:%M:%S')\n",
    "\n",
    "logging.debug('debug message')\n",
    "logging.info('info message')\n",
    "logging.warning('warning message')\n",
    "logging.error('error message')\n",
    "logging.critical('critical message')"
   ]
  },
  {
   "cell_type": "code",
   "execution_count": null,
   "id": "5d832e1a",
   "metadata": {},
   "outputs": [],
   "source": [
    "import logging\n",
    "\n",
    "logging.basicConfig(level=logging.WARNING,\n",
    "                    filename='log3.log',\n",
    "                    filemode='w',\n",
    "                    format='%(asctime)s-%(levelname)s-%(lineno)d-%(message)s',\n",
    "                    datefmt='%d-%B-%Y %H:%M:%S')\n",
    "\n",
    "logging.debug('debug message')\n",
    "logging.info('info message')\n",
    "logging.warning('warning message')\n",
    "logging.error('error message')\n",
    "logging.critical('critical message')"
   ]
  },
  {
   "cell_type": "code",
   "execution_count": null,
   "id": "39596bfd",
   "metadata": {},
   "outputs": [],
   "source": [
    "import logging\n",
    "\n",
    "logging.basicConfig(level=logging.INFO,\n",
    "                    filename='log4.log',\n",
    "                    filemode='w',\n",
    "                    format='%(asctime)s-%(levelname)s-%(lineno)d-%(message)s',\n",
    "                    datefmt='%d-%B-%Y %H:%M:%S')\n",
    "\n",
    "logging.debug('debug message')\n",
    "logging.info('info message')\n",
    "logging.warning('warning message')\n",
    "logging.error('error message')\n",
    "logging.critical('critical message')"
   ]
  },
  {
   "cell_type": "code",
   "execution_count": null,
   "id": "afcc15bf",
   "metadata": {},
   "outputs": [],
   "source": [
    "import logging\n",
    "\n",
    "logging.basicConfig(level=logging.DEBUG,\n",
    "                    filename='log5.log',\n",
    "                    filemode='w',\n",
    "                    format='%(asctime)s-%(levelname)s-%(lineno)d-%(message)s',\n",
    "                    datefmt='%d-%B-%Y %H:%M:%S')\n",
    "\n",
    "logging.debug('debug message')\n",
    "logging.info('info message')\n",
    "logging.warning('warning message')\n",
    "logging.error('error message')\n",
    "logging.critical('critical message')"
   ]
  },
  {
   "cell_type": "code",
   "execution_count": 21,
   "id": "1b72cb9e",
   "metadata": {},
   "outputs": [
    {
     "name": "stdout",
     "output_type": "stream",
     "text": [
      "Enter numerator:2\n",
      "Enter denominator:0\n"
     ]
    }
   ],
   "source": [
    "import os\n",
    "import logging\n",
    "\n",
    "### specify the directory path and file name\n",
    "dir_path=r'C:\\\\Users\\\\Tamilselvan.E\\\\Downloads'\n",
    "log_file='log10.log'\n",
    "full_path=os.path.join(dir_path,log_file)\n",
    "\n",
    "# Check if the directory exists and create it if necessary\n",
    "os.makedirs(dir_path,exist_ok=True)\n",
    "\n",
    "# Set up logging\n",
    "# Get a logger instance (this will fetch the root logger)\n",
    "logger=logging.getLogger()\n",
    "\n",
    "# Set the level of the logger to CRITICAL\n",
    "# This means it will handle events of level CRITICAL and above\n",
    "logger.setLevel(logging.CRITICAL)\n",
    "\n",
    "# Create a FileHandler instance to write logs to a file\n",
    "handler=logging.FileHandler(full_path)\n",
    "\n",
    "# This format includes the log timestamp, log level and log message\n",
    "handler.setFormatter(logging.Formatter('%(asctime)s:%(name)s:%(levelname)s:%(lineno)d:%(funcName)s:%(message)s'))\n",
    "\n",
    "# Add the handler to the logger\n",
    "# This connects the logger to the handler so that logs get written to the file\n",
    "logger.addHandler(handler)\n",
    "\n",
    "def divide():\n",
    "    try:\n",
    "        n=int(input('Enter numerator:'))\n",
    "        d=int(input('Enter denominator:'))\n",
    "        result=n/d\n",
    "        return result\n",
    "    except Exception as e:\n",
    "        logging.critical(e)\n",
    "divide()        \n",
    "handler.close()"
   ]
  },
  {
   "cell_type": "code",
   "execution_count": null,
   "id": "a828cfc4",
   "metadata": {},
   "outputs": [],
   "source": []
  }
 ],
 "metadata": {
  "kernelspec": {
   "display_name": "Python 3 (ipykernel)",
   "language": "python",
   "name": "python3"
  },
  "language_info": {
   "codemirror_mode": {
    "name": "ipython",
    "version": 3
   },
   "file_extension": ".py",
   "mimetype": "text/x-python",
   "name": "python",
   "nbconvert_exporter": "python",
   "pygments_lexer": "ipython3",
   "version": "3.10.9"
  }
 },
 "nbformat": 4,
 "nbformat_minor": 5
}
